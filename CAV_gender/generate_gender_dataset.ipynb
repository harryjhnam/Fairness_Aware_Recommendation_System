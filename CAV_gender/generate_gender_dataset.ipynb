{
 "cells": [
  {
   "cell_type": "code",
   "execution_count": 7,
   "metadata": {},
   "outputs": [
    {
     "output_type": "stream",
     "name": "stderr",
     "text": [
      "/usr/lib/python3.6/importlib/_bootstrap.py:219: RuntimeWarning: numpy.ufunc size changed, may indicate binary incompatibility. Expected 192 from C header, got 216 from PyObject\n",
      "  return f(*args, **kwds)\n",
      "/usr/lib/python3.6/importlib/_bootstrap.py:219: RuntimeWarning: numpy.ufunc size changed, may indicate binary incompatibility. Expected 192 from C header, got 216 from PyObject\n",
      "  return f(*args, **kwds)\n",
      "/usr/lib/python3.6/importlib/_bootstrap.py:219: RuntimeWarning: numpy.ufunc size changed, may indicate binary incompatibility. Expected 192 from C header, got 216 from PyObject\n",
      "  return f(*args, **kwds)\n",
      "/usr/lib/python3.6/importlib/_bootstrap.py:219: RuntimeWarning: numpy.ufunc size changed, may indicate binary incompatibility. Expected 192 from C header, got 216 from PyObject\n",
      "  return f(*args, **kwds)\n",
      "[nltk_data] Downloading package wordnet to /home/njh/nltk_data...\n",
      "[nltk_data]   Package wordnet is already up-to-date!\n"
     ]
    }
   ],
   "source": [
    "import nltk\n",
    "nltk.download('wordnet')\n",
    "\n",
    "from nltk.corpus import wordnet as wn"
   ]
  },
  {
   "cell_type": "code",
   "execution_count": 8,
   "metadata": {},
   "outputs": [],
   "source": [
    "def get_hyponyms(synset):\n",
    "    hyponyms = set()\n",
    "    for hyponym in synset.hyponyms():\n",
    "        hyponyms |= set(get_hyponyms(hyponym))\n",
    "    return hyponyms | set(synset.hyponyms())"
   ]
  },
  {
   "cell_type": "code",
   "execution_count": 9,
   "metadata": {},
   "outputs": [
    {
     "output_type": "stream",
     "name": "stdout",
     "text": [
      "- There are 298 words in female words dataset.\n  Samples:  party girl, ring girl, belle, mill girl, colleen, sex kitten, sexpot, sex bomb, peri, flapper , ...\n- There are 152 words in male words dataset.\n  Samples:  bat boy, Eagle Scout, Boy Scout, schoolboy, ball boy, farm boy, Sea Scout, catamite, shop boy, Scout , ...\n"
     ]
    }
   ],
   "source": [
    "female_words = []\n",
    "for s in get_hyponyms(wn.synset('woman.n.01')):\n",
    "    female_words.extend(s.lemma_names())\n",
    "for s in get_hyponyms(wn.synset('girl.n.01')):\n",
    "    female_words.extend(s.lemma_names())\n",
    "for i in range(len(female_words)):\n",
    "    female_words[i] = female_words[i].replace(\"-\", \" \")\n",
    "    female_words[i] = female_words[i].replace(\"_\", \" \")\n",
    "print(\"- There are {} words in female words dataset.\".format(len(female_words)))\n",
    "print(\"  Samples: \", \", \".join(female_words[-10:]), \", ...\")\n",
    "    \n",
    "male_words = []\n",
    "for s in get_hyponyms(wn.synset('man.n.01')):\n",
    "    male_words.extend(s.lemma_names())\n",
    "for s in get_hyponyms(wn.synset('boy.n.01')):\n",
    "    male_words.extend(s.lemma_names())\n",
    "for i in range(len(male_words)):\n",
    "    male_words[i] = male_words[i].replace(\"-\", \" \")\n",
    "    male_words[i] = male_words[i].replace(\"_\", \" \")\n",
    "print(\"- There are {} words in male words dataset.\".format(len(male_words)))\n",
    "print(\"  Samples: \", \", \".join(male_words[-10:]), \", ...\")"
   ]
  },
  {
   "cell_type": "code",
   "execution_count": 10,
   "metadata": {},
   "outputs": [],
   "source": [
    "import json\n",
    "with open('FEMALE_words.txt', 'w') as f:\n",
    "    f.write(json.dumps(female_words))\n",
    "with open('MALE_words.txt', 'w') as f:\n",
    "    f.write(json.dumps(male_words))"
   ]
  },
  {
   "cell_type": "code",
   "execution_count": null,
   "metadata": {},
   "outputs": [],
   "source": []
  },
  {
   "cell_type": "code",
   "execution_count": 11,
   "metadata": {},
   "outputs": [],
   "source": [
    "import numpy as np\n",
    "import pandas as pd\n",
    "\n",
    "from sentence_transformers import SentenceTransformer"
   ]
  },
  {
   "cell_type": "code",
   "execution_count": 12,
   "metadata": {},
   "outputs": [],
   "source": [
    "model = SentenceTransformer('bert-large-nli-stsb-mean-tokens')\n",
    "female_embeddings = model.encode(female_words)\n",
    "male_embeddings = model.encode(male_words)"
   ]
  },
  {
   "cell_type": "code",
   "execution_count": 14,
   "metadata": {},
   "outputs": [
    {
     "output_type": "stream",
     "name": "stdout",
     "text": [
      "female words\n    userId         word                                          embedding  \\\n0       0  white woman  [-0.680018, 0.57383853, -0.50681406, -0.333249...   \n1       1  white woman  [-0.680018, 0.57383853, -0.50681406, -0.333249...   \n2       2  white woman  [-0.680018, 0.57383853, -0.50681406, -0.333249...   \n3       3  white woman  [-0.680018, 0.57383853, -0.50681406, -0.333249...   \n4       4  white woman  [-0.680018, 0.57383853, -0.50681406, -0.333249...   \n\n   CAV_label  \n0        0.0  \n1        0.0  \n2        0.0  \n3        0.0  \n4        0.0  \nmale words\n    userId             word                                          embedding  \\\n0       0  one of the boys  [-0.6823418, 0.6486567, 0.3020579, 0.041714665...   \n1       1  one of the boys  [-0.6823418, 0.6486567, 0.3020579, 0.041714665...   \n2       2  one of the boys  [-0.6823418, 0.6486567, 0.3020579, 0.041714665...   \n3       3  one of the boys  [-0.6823418, 0.6486567, 0.3020579, 0.041714665...   \n4       4  one of the boys  [-0.6823418, 0.6486567, 0.3020579, 0.041714665...   \n\n   CAV_label  \n0        1.0  \n1        1.0  \n2        1.0  \n3        1.0  \n4        1.0  \nconcatenated CAV dataframe\n    userId         word                                          embedding  \\\n0       0  white woman  [-0.680018, 0.57383853, -0.50681406, -0.333249...   \n1       1  white woman  [-0.680018, 0.57383853, -0.50681406, -0.333249...   \n2       2  white woman  [-0.680018, 0.57383853, -0.50681406, -0.333249...   \n3       3  white woman  [-0.680018, 0.57383853, -0.50681406, -0.333249...   \n4       4  white woman  [-0.680018, 0.57383853, -0.50681406, -0.333249...   \n\n   CAV_label  \n0        0.0  \n1        0.0  \n2        0.0  \n3        0.0  \n4        0.0  \n"
     ]
    }
   ],
   "source": [
    "n_users = 7700\n",
    "\n",
    "female_userIDs = []\n",
    "r_female_words = []\n",
    "r_female_embeddings = []\n",
    "\n",
    "for i, w in enumerate(female_words):\n",
    "    for userId in range(n_users):\n",
    "        female_userIDs.append(userId)\n",
    "        r_female_words.append(w)\n",
    "        r_female_embeddings.append(female_embeddings[i])\n",
    "\n",
    "male_userIDs = []\n",
    "r_male_words = []\n",
    "r_male_embeddings = []\n",
    "\n",
    "for i, w in enumerate(male_words):\n",
    "    for userId in range(n_users):\n",
    "        male_userIDs.append(userId)\n",
    "        r_male_words.append(w)\n",
    "        r_male_embeddings.append(male_embeddings[i])\n",
    "\n",
    "female_df = pd.DataFrame({'userId': female_userIDs, 'word': r_female_words, 'embedding': r_female_embeddings, 'CAV_label': np.zeros(len(female_userIDs)).tolist()})\n",
    "male_df = pd.DataFrame({'userId': male_userIDs, 'word': r_male_words, 'embedding': r_male_embeddings, 'CAV_label': np.ones(len(male_userIDs)).tolist()})\n",
    "\n",
    "print(\"female words\\n\", female_df.head())\n",
    "print(\"male words\\n\", male_df.head())\n",
    "\n",
    "cav_df = pd.concat([female_df, male_df])\n",
    "print(\"concatenated CAV dataframe\\n\", cav_df.head())"
   ]
  },
  {
   "cell_type": "code",
   "execution_count": 3,
   "metadata": {},
   "outputs": [
    {
     "output_type": "execute_result",
     "data": {
      "text/plain": [
       "[0.0, 0.0, 0.0, 0.0, 0.0, 0.0, 0.0, 0.0, 0.0, 0.0]"
      ]
     },
     "metadata": {},
     "execution_count": 3
    }
   ],
   "source": []
  },
  {
   "cell_type": "code",
   "execution_count": 48,
   "metadata": {},
   "outputs": [],
   "source": [
    "import os, sys\n",
    "sys.path.append(os.path.dirname(os.path.join(os.path.dirname(os.getcwd()), 'neural-collaborative-filtering/src/')))\n",
    "\n",
    "import torch\n",
    "from tqdm import trange\n",
    "from gmf import GMFEngine"
   ]
  },
  {
   "cell_type": "code",
   "execution_count": 17,
   "metadata": {},
   "outputs": [
    {
     "output_type": "execute_result",
     "data": {
      "text/plain": [
       "<All keys matched successfully>"
      ]
     },
     "metadata": {},
     "execution_count": 17
    }
   ],
   "source": [
    "trained_model_ckpt = '../neural-collaborative-filtering/src/checkpoints/gmf_factor8neg4-implict_Epoch47_HR1.0000_NDCG0.8431.model'\n",
    "\n",
    "gmf_config = {'alias': 'gmf_factor8neg4-implict',\n",
    "              'num_epoch': 200,\n",
    "              'batch_size': 1024,\n",
    "              # 'optimizer': 'sgd',\n",
    "              # 'sgd_lr': 1e-3,\n",
    "              # 'sgd_momentum': 0.9,\n",
    "              # 'optimizer': 'rmsprop',\n",
    "              # 'rmsprop_lr': 1e-3,\n",
    "              # 'rmsprop_alpha': 0.99,\n",
    "              # 'rmsprop_momentum': 0,\n",
    "              'optimizer': 'adam',\n",
    "              'adam_lr': 1e-3,\n",
    "              'num_users': 7700,\n",
    "              'num_items': 158,\n",
    "              'bert_dim': 1024,\n",
    "              'latent_dim': 8,\n",
    "              'num_negative': 4,\n",
    "              'l2_regularization': 0, # 0.01\n",
    "              'use_cuda': False,\n",
    "              'device_id': 0,\n",
    "              'model_dir':'checkpoints/{}_Epoch{}_HR{:.4f}_NDCG{:.4f}.model'}\n",
    "\n",
    "engine = GMFEngine(gmf_config)\n",
    "state_dict = torch.load(trained_model_ckpt)\n",
    "engine.model.load_state_dict(state_dict)"
   ]
  },
  {
   "cell_type": "code",
   "execution_count": 45,
   "metadata": {},
   "outputs": [],
   "source": [
    "batch_size = 1024\n",
    "n_steps = len(cav_df)//batch_size\n",
    "\n",
    "userIDs = torch.LongTensor(list(cav_df['userId']))\n",
    "embeddings = torch.Tensor(list(cav_df['embedding']))"
   ]
  },
  {
   "cell_type": "code",
   "execution_count": 82,
   "metadata": {},
   "outputs": [
    {
     "output_type": "stream",
     "name": "stderr",
     "text": [
      "100%|██████████| 3383/3383 [00:07<00:00, 428.02it/s]\n"
     ]
    }
   ],
   "source": [
    "bottlenecks = []\n",
    "\n",
    "engine.model.eval()\n",
    "with torch.no_grad():\n",
    "    for s in trange(0, n_steps):\n",
    "        b = engine.model(userIDs[s*batch_size:(s+1)*batch_size],\n",
    "                         embeddings[s*batch_size:(s+1)*batch_size])\n",
    "        b = engine.model._get_bottleneck()\n",
    "        bottlenecks.extend(list(b))\n",
    "    # Last batch\n",
    "    b = engine.model(userIDs[n_steps*batch_size:],\n",
    "                         embeddings[n_steps*batch_size:])\n",
    "    b = engine.model._get_bottleneck()\n",
    "    bottlenecks.extend(list(b))"
   ]
  },
  {
   "cell_type": "code",
   "execution_count": 84,
   "metadata": {},
   "outputs": [],
   "source": [
    "cav_df['bottleneck'] = bottlenecks"
   ]
  },
  {
   "cell_type": "code",
   "execution_count": 85,
   "metadata": {},
   "outputs": [
    {
     "output_type": "execute_result",
     "data": {
      "text/plain": [
       "   userId         word                                          embedding  \\\n",
       "0       0  white woman  [-0.680018, 0.57383853, -0.50681406, -0.333249...   \n",
       "1       1  white woman  [-0.680018, 0.57383853, -0.50681406, -0.333249...   \n",
       "2       2  white woman  [-0.680018, 0.57383853, -0.50681406, -0.333249...   \n",
       "3       3  white woman  [-0.680018, 0.57383853, -0.50681406, -0.333249...   \n",
       "4       4  white woman  [-0.680018, 0.57383853, -0.50681406, -0.333249...   \n",
       "\n",
       "   CAV_label         bottleneck  \n",
       "0        0.0  [tensor(-0.2533)]  \n",
       "1        0.0   [tensor(0.9172)]  \n",
       "2        0.0  [tensor(-0.2931)]  \n",
       "3        0.0   [tensor(0.5616)]  \n",
       "4        0.0   [tensor(0.0050)]  "
      ],
      "text/html": "<div>\n<style scoped>\n    .dataframe tbody tr th:only-of-type {\n        vertical-align: middle;\n    }\n\n    .dataframe tbody tr th {\n        vertical-align: top;\n    }\n\n    .dataframe thead th {\n        text-align: right;\n    }\n</style>\n<table border=\"1\" class=\"dataframe\">\n  <thead>\n    <tr style=\"text-align: right;\">\n      <th></th>\n      <th>userId</th>\n      <th>word</th>\n      <th>embedding</th>\n      <th>CAV_label</th>\n      <th>bottleneck</th>\n    </tr>\n  </thead>\n  <tbody>\n    <tr>\n      <th>0</th>\n      <td>0</td>\n      <td>white woman</td>\n      <td>[-0.680018, 0.57383853, -0.50681406, -0.333249...</td>\n      <td>0.0</td>\n      <td>[tensor(-0.2533)]</td>\n    </tr>\n    <tr>\n      <th>1</th>\n      <td>1</td>\n      <td>white woman</td>\n      <td>[-0.680018, 0.57383853, -0.50681406, -0.333249...</td>\n      <td>0.0</td>\n      <td>[tensor(0.9172)]</td>\n    </tr>\n    <tr>\n      <th>2</th>\n      <td>2</td>\n      <td>white woman</td>\n      <td>[-0.680018, 0.57383853, -0.50681406, -0.333249...</td>\n      <td>0.0</td>\n      <td>[tensor(-0.2931)]</td>\n    </tr>\n    <tr>\n      <th>3</th>\n      <td>3</td>\n      <td>white woman</td>\n      <td>[-0.680018, 0.57383853, -0.50681406, -0.333249...</td>\n      <td>0.0</td>\n      <td>[tensor(0.5616)]</td>\n    </tr>\n    <tr>\n      <th>4</th>\n      <td>4</td>\n      <td>white woman</td>\n      <td>[-0.680018, 0.57383853, -0.50681406, -0.333249...</td>\n      <td>0.0</td>\n      <td>[tensor(0.0050)]</td>\n    </tr>\n  </tbody>\n</table>\n</div>"
     },
     "metadata": {},
     "execution_count": 85
    }
   ],
   "source": [
    "cav_df.head()"
   ]
  },
  {
   "cell_type": "code",
   "execution_count": 86,
   "metadata": {},
   "outputs": [],
   "source": [
    "cav_dat = 'cav.dat'\n",
    "cav_df.to_pickle(cav_dat)"
   ]
  },
  {
   "cell_type": "code",
   "execution_count": null,
   "metadata": {},
   "outputs": [],
   "source": []
  }
 ],
 "metadata": {
  "kernelspec": {
   "display_name": "Python 3.6.9 64-bit ('eval': venv)",
   "language": "python",
   "name": "python36964bitevalvenvd4e0a16f12744eb3a7f4218010e2b7b0"
  },
  "language_info": {
   "codemirror_mode": {
    "name": "ipython",
    "version": 3
   },
   "file_extension": ".py",
   "mimetype": "text/x-python",
   "name": "python",
   "nbconvert_exporter": "python",
   "pygments_lexer": "ipython3",
   "version": "3.6.9-final"
  }
 },
 "nbformat": 4,
 "nbformat_minor": 4
}